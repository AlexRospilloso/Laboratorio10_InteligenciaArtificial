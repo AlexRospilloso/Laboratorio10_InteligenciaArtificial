{
  "nbformat": 4,
  "nbformat_minor": 0,
  "metadata": {
    "colab": {
      "provenance": []
    },
    "kernelspec": {
      "name": "python3",
      "display_name": "Python 3"
    },
    "language_info": {
      "name": "python"
    }
  },
  "cells": [
    {
      "cell_type": "code",
      "execution_count": null,
      "metadata": {
        "id": "rLvzOS2Lbahv"
      },
      "outputs": [],
      "source": [
        "import numpy as np\n",
        "import pandas as pd\n",
        "from google.colab import drive\n",
        "from matplotlib import pyplot\n",
        "from mpl_toolkits.mplot3d import Axes3D\n",
        "from scipy import optimize\n",
        "\n",
        "%matplotlib inline"
      ]
    },
    {
      "cell_type": "code",
      "source": [
        "drive.mount(\"/content/drive\")"
      ],
      "metadata": {
        "colab": {
          "base_uri": "https://localhost:8080/"
        },
        "id": "MBDGGpdrblW4",
        "outputId": "1602c7d0-e0c9-4e75-90fb-4ccafa1cc252"
      },
      "execution_count": null,
      "outputs": [
        {
          "output_type": "stream",
          "name": "stdout",
          "text": [
            "Drive already mounted at /content/drive; to attempt to forcibly remount, call drive.mount(\"/content/drive\", force_remount=True).\n"
          ]
        }
      ]
    },
    {
      "cell_type": "code",
      "source": [
        "data = pd.read_csv(\"/content/drive/MyDrive/Datasets/Dataset_MantenimientoMaquinas.csv\")\n",
        "x = data.iloc[:,2:8]\n",
        "y = data.iloc[:,8]"
      ],
      "metadata": {
        "id": "i97QxRt8bs6X"
      },
      "execution_count": null,
      "outputs": []
    },
    {
      "cell_type": "code",
      "source": [
        "def cambiarDatos():\n",
        "  tipo = {\"M\":1,\"L\":2,\"H\":3}\n",
        "  x[\"Type\"] = x[\"Type\"].map(tipo)"
      ],
      "metadata": {
        "id": "nVmY2isz8lg1"
      },
      "execution_count": null,
      "outputs": []
    },
    {
      "cell_type": "code",
      "source": [
        "cambiarDatos()\n",
        "x = np.array(x)\n",
        "y = np.array(y)\n",
        "n_ejemplos = y.size"
      ],
      "metadata": {
        "id": "NAJMn3Db8-is"
      },
      "execution_count": null,
      "outputs": []
    },
    {
      "cell_type": "code",
      "source": [
        "def funcionSigmoidea(z):\n",
        "  z = np.array(z)\n",
        "  g = 1/(1+np.exp(-z))\n",
        "  return g"
      ],
      "metadata": {
        "id": "we5HtjyJJiEL"
      },
      "execution_count": null,
      "outputs": []
    },
    {
      "cell_type": "code",
      "source": [
        "x = np.concatenate((np.ones((n_ejemplos,1)),x),axis=1)"
      ],
      "metadata": {
        "id": "GNM6srOeMBhy"
      },
      "execution_count": null,
      "outputs": []
    },
    {
      "cell_type": "code",
      "source": [
        "def calcularCosto(theta, x, y):\n",
        "  h = funcionSigmoidea(x.dot(theta.T))\n",
        "  J = (1/n_ejemplos)*np.sum(-y.dot(np.log(h))-(1-y).dot(np.log(1-h)))\n",
        "  return J"
      ],
      "metadata": {
        "id": "PS-dbfhkSkDa"
      },
      "execution_count": null,
      "outputs": []
    },
    {
      "cell_type": "code",
      "source": [
        "def descensoGradiente(x, y, theta, alpha, n_iteraciones):\n",
        "  historial_J = []\n",
        "  theta = theta.copy()\n",
        "  for i in range (n_iteraciones):\n",
        "    h = funcionSigmoidea(x.dot(theta.T))\n",
        "    theta = theta-(alpha/n_ejemplos)*(h-y).dot(x)\n",
        "    historial_J.append(calcularCosto(theta,x,y))\n",
        "  return theta, historial_J"
      ],
      "metadata": {
        "id": "pXspw80iTAsa"
      },
      "execution_count": null,
      "outputs": []
    },
    {
      "cell_type": "code",
      "source": [
        "def hallarTheta():\n",
        "  theta = np.zeros(x.shape[1])\n",
        "  n_iteraciones = 500\n",
        "  alpha = 0.00002\n",
        "  theta, historial_J = descensoGradiente(x,y,theta,alpha,n_iteraciones)\n",
        "  return theta, historial_J"
      ],
      "metadata": {
        "id": "1u3X4ag4VjG5"
      },
      "execution_count": null,
      "outputs": []
    },
    {
      "cell_type": "code",
      "source": [
        "theta, historial_J = hallarTheta()\n",
        "print(\"Las thetas encontradas son: \",theta)\n",
        "print(\"El menor costo que se pudo determinar fue de: \",historial_J[-1])"
      ],
      "metadata": {
        "colab": {
          "base_uri": "https://localhost:8080/"
        },
        "id": "F4zjyQ2IV1_A",
        "outputId": "3a083054-5d2d-4e07-9c75-b24bd5c2c193"
      },
      "execution_count": null,
      "outputs": [
        {
          "output_type": "stream",
          "name": "stdout",
          "text": [
            "Las thetas encontradas son:  [-3.87926938e-06 -1.46068126e-06 -8.62447788e-04 -1.10394181e-03\n",
            " -2.40383182e-03  2.31658307e-03  6.58415437e-03]\n",
            "El menor costo que se pudo determinar fue de:  0.14133368070951227\n"
          ]
        }
      ]
    },
    {
      "cell_type": "code",
      "source": [
        "pyplot.plot(np.arange(len(historial_J)), historial_J, lw=2)\n",
        "pyplot.xlabel('Numero de iteraciones')\n",
        "pyplot.ylabel('Costo J')"
      ],
      "metadata": {
        "colab": {
          "base_uri": "https://localhost:8080/",
          "height": 296
        },
        "id": "JJ-oF7seab-e",
        "outputId": "a1ec3f4a-e9b0-44df-ec58-295de9ccdb08"
      },
      "execution_count": null,
      "outputs": [
        {
          "output_type": "execute_result",
          "data": {
            "text/plain": [
              "Text(0, 0.5, 'Costo J')"
            ]
          },
          "metadata": {},
          "execution_count": 286
        },
        {
          "output_type": "display_data",
          "data": {
            "text/plain": [
              "<Figure size 432x288 with 1 Axes>"
            ],
            "image/png": "[encoded data removed]"
          },
          "metadata": {
            "needs_background": "light"
          }
        }
      ]
    },
    {
      "cell_type": "code",
      "source": [
        "def predecir(x):\n",
        "  x = np.array(x)\n",
        "  x = np.concatenate((np.ones(1),x))\n",
        "  y_predecir = funcionSigmoidea(np.dot(x,theta))\n",
        "  print(\"El porcentaje de los valores de x para presentar una falla es \",y_predecir*100)"
      ],
      "metadata": {
        "id": "XmlyXyR1T2__"
      },
      "execution_count": null,
      "outputs": []
    },
    {
      "cell_type": "code",
      "source": [
        "predecir([2,3,2.5,1.3,5,5])"
      ],
      "metadata": {
        "colab": {
          "base_uri": "https://localhost:8080/"
        },
        "id": "pNsQL4gPUSW4",
        "outputId": "e8203494-5c42-4408-a47d-190ebc4cfae5"
      },
      "execution_count": null,
      "outputs": [
        {
          "output_type": "stream",
          "name": "stdout",
          "text": [
            "El porcentaje de los valores de x para presentar una falla es  50.90052029562695\n"
          ]
        }
      ]
    },
    {
      "cell_type": "markdown",
      "source": [
        "#Hallando Theta optimizada"
      ],
      "metadata": {
        "id": "8EwTbQn50Kkl"
      }
    },
    {
      "cell_type": "code",
      "source": [
        "def funcionCosto(theta, x, y):\n",
        "    h = funcionSigmoidea(x.dot(theta.T))\n",
        "    J = (1/n_ejemplos)*np.sum(-y.dot(np.log(h))-(1-y).dot(np.log(1-h)))\n",
        "    gradiente = (1/n_ejemplos)*(h-y).dot(x)\n",
        "    return J, gradiente"
      ],
      "metadata": {
        "id": "Wm_eQVKIXrmI"
      },
      "execution_count": null,
      "outputs": []
    },
    {
      "cell_type": "code",
      "source": [
        "def optimizarTheta():\n",
        "  opciones = {\"maxiter\":1000}\n",
        "  thetaInicial = np.zeros(x.shape[1])\n",
        "  optimizacion = optimize.minimize(funcionCosto,thetaInicial,(x,y),jac=True,method=\"TNC\",options=opciones)\n",
        "  costo = optimizacion.fun\n",
        "  theta_optimizada = optimizacion.x\n",
        "  return theta_optimizada, costo"
      ],
      "metadata": {
        "id": "uCOoHHA4cHB_"
      },
      "execution_count": null,
      "outputs": []
    },
    {
      "cell_type": "code",
      "source": [
        "theta_funcionCosto, costo = optimizarTheta()\n",
        "print(theta_funcionCosto)"
      ],
      "metadata": {
        "colab": {
          "base_uri": "https://localhost:8080/"
        },
        "id": "JTFCce65eh-a",
        "outputId": "168e45ea-5924-4399-93c6-1cdbbd951aa9"
      },
      "execution_count": null,
      "outputs": [
        {
          "output_type": "stream",
          "name": "stdout",
          "text": [
            "[-2.66901559e+01  4.20248139e-02  8.47179918e-01 -8.48765668e-01\n",
            "  1.16182431e-02  2.82883740e-01  1.34203263e-02]\n"
          ]
        }
      ]
    },
    {
      "cell_type": "code",
      "source": [
        "def predecirThetaOptimizada(x):\n",
        "  x = np.array(x)\n",
        "  x = np.concatenate((np.ones(1),x))\n",
        "  y_predecir = funcionSigmoidea(np.dot(x,theta_funcionCosto))\n",
        "  print(\"El porcentaje de los valores de x para presentar una falla es \",y_predecir*100)"
      ],
      "metadata": {
        "id": "AtlY4RQbmNNY"
      },
      "execution_count": null,
      "outputs": []
    },
    {
      "cell_type": "code",
      "source": [
        "predecirThetaOptimizada([2,3,2.5,1.3,5,5])"
      ],
      "metadata": {
        "colab": {
          "base_uri": "https://localhost:8080/"
        },
        "id": "svPp1D5gmmKd",
        "outputId": "69ca6eef-adae-4173-fb65-cb26142f74eb"
      },
      "execution_count": null,
      "outputs": [
        {
          "output_type": "stream",
          "name": "stdout",
          "text": [
            "El porcentaje de los valores de x para presentar una falla es  1.893788578723964e-09\n"
          ]
        }
      ]
    },
    {
      "cell_type": "markdown",
      "source": [
        "#Metodo de la normal"
      ],
      "metadata": {
        "id": "wHBMSSwC0BSs"
      }
    },
    {
      "cell_type": "code",
      "source": [
        "def metodoNormal(x, y):\n",
        "  x = np.float64(x)\n",
        "  y = np.float64(y)\n",
        "  theta = np.dot(np.dot(np.linalg.inv(np.dot(x.T,x)),x.T),y)\n",
        "  return theta"
      ],
      "metadata": {
        "id": "vqC0HSpYsaNZ"
      },
      "execution_count": null,
      "outputs": []
    },
    {
      "cell_type": "code",
      "source": [
        "theta = metodoNormal(x,y)\n",
        "print(\"Las thetas encontradas son: \",theta)\n",
        "x_predecir = [1,2,3,2.5,1.3,5,5]\n",
        "x_predecir = np.array(x_predecir)\n",
        "y_predecir = funcionSigmoidea(np.dot(x_predecir,theta))\n",
        "print(\"El porcentaje de los valores de x para presentar una falla es \",y_predecir*100)"
      ],
      "metadata": {
        "colab": {
          "base_uri": "https://localhost:8080/"
        },
        "id": "I5fxMhVGsg2K",
        "outputId": "1853257a-49dc-478b-d2b4-d98162d2d64c"
      },
      "execution_count": null,
      "outputs": [
        {
          "output_type": "stream",
          "name": "stdout",
          "text": [
            "Las thetas encontradas son:  [-1.30152802e+00  2.29399976e-03  1.90038003e-02 -1.83373649e-02\n",
            "  5.26913057e-04  1.17859104e-02  3.02594378e-04]\n",
            "El porcentaje de los valores de x para presentar una falla es  22.712013369620447\n"
          ]
        }
      ]
    }
  ]
}